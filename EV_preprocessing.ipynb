{
 "cells": [
  {
   "cell_type": "code",
   "execution_count": 110,
   "id": "1834182c",
   "metadata": {},
   "outputs": [],
   "source": [
    "import pandas as pd\n",
    "import matplotlib.pyplot as plt\n",
    "import numpy as np"
   ]
  },
  {
   "cell_type": "code",
   "execution_count": 111,
   "id": "96601a2b",
   "metadata": {},
   "outputs": [],
   "source": [
    "'''This cell tidys the data so it can be better processed'''\n",
    "\n",
    "EV = pd.read_csv(\"/Users/juliabaratta/Desktop/epa_EV.csv\")\n",
    "#removes unnecessary rows\n",
    "EV = EV.iloc[5:-2]\n",
    "#drops aggrigated rows to avoid unnecessary columns \n",
    "EV = EV.drop(['Unnamed: 1', 'Unnamed: 2', 'Unnamed: 3', 'Unnamed: 4', 'Unnamed: 5', 'Unnamed: 6', 'Unnamed: 7', 'Unnamed: 12', 'Unnamed: 13', 'Unnamed: 18', 'Unnamed: 19' ], axis=1)\n",
    "#renames columns so they make more sense \n",
    "# EPS = electric power sector , CS = commercial sector, IS = industrial sector, RS = residential sector\n",
    "# utl = utility scale, SS = small scale\n",
    "column_rename = {\"Table 3.21. Net Generation from Solar Photovoltaic\": \"State\", \"Unnamed: 8\": \"EPS:Electric_Utilities_Utl2021\", \"Unnamed: 9\": \"EPS:Electric_Utilities_Utl2020\", \"Unnamed: 10\": \"EPS:IPP_Utl2021\", \"Unnamed: 11\": \"EPS:IPP_Utl2020\", \"Unnamed: 14\": \"CS:Utl2021\", \"Unnamed: 15\": \"CS:Utl2020\", \"Unnamed: 16\": \"CS:SS2021\", \"Unnamed: 17\": \"CS:SS2020\", \"Unnamed: 20\": \"IS:Utl2021\", \"Unnamed: 21\": \"IS:Utl2020\", \"Unnamed: 22\": \"IS:SS2021\", \"Unnamed: 23\": \"IS:SS2020\", \"Unnamed: 24\": \"RS:SS2021\", \"Unnamed: 25\": \"RS:SS2020\"}\n",
    "EV = EV.rename(columns=column_rename)\n",
    "#dros rows that don't match the unit of observation\n",
    "EV = EV.drop([12, 16, 22, 30, 40, 45, 50, 59, 63])\n",
    "\n",
    "EV = EV.set_index(\"State\")\n",
    "#deletes commas \n",
    "for column in EV.columns: \n",
    "    EV[column] = EV[column].str.replace(',', '', regex=True)\n",
    "    #EV[column] = EV[column].str.replace('0', np.NaN, regex=True)\n",
    "#converts to int    \n",
    "EV['RS:SS2020'] = EV['RS:SS2020'].astype(int)\n",
    "EV['RS:SS2021'] = EV['RS:SS2021'].astype(int)\n"
   ]
  },
  {
   "cell_type": "code",
   "execution_count": 112,
   "id": "546d5572",
   "metadata": {},
   "outputs": [
    {
     "name": "stdout",
     "output_type": "stream",
     "text": [
      "State\n",
      "New England              1672.0\n",
      "Connecticut               448.5\n",
      "Maine                      62.0\n",
      "Massachusetts             860.0\n",
      "New Hampshire             102.5\n",
      "Rhode Island               89.0\n",
      "Vermont                   110.0\n",
      "New Jersey               1180.5\n",
      "New York                 1183.0\n",
      "Pennsylvania              355.0\n",
      "Illinois                  267.5\n",
      "Indiana                    88.5\n",
      "Michigan                   97.0\n",
      "Ohio                      100.5\n",
      "Wisconsin                  67.0\n",
      "Iowa                       82.0\n",
      "Kansas                     33.5\n",
      "Minnesota                  94.5\n",
      "Missouri                  223.0\n",
      "Nebraska                   13.5\n",
      "North Dakota                0.5\n",
      "South Dakota                1.0\n",
      "Delaware                   91.5\n",
      "District of Columbia       75.0\n",
      "Florida                  1215.5\n",
      "Georgia                    43.5\n",
      "Maryland                  707.5\n",
      "North Carolina            256.5\n",
      "South Carolina            278.0\n",
      "Virginia                  192.0\n",
      "West Virginia              13.0\n",
      "Alabama                     3.5\n",
      "Kentucky                   33.0\n",
      "Mississippi                 7.5\n",
      "Tennessee                  27.5\n",
      "Arkansas                   59.0\n",
      "Louisiana                 240.0\n",
      "Oklahoma                   33.0\n",
      "Texas                    1587.0\n",
      "Arizona                  2235.5\n",
      "Colorado                  611.5\n",
      "Idaho                      85.5\n",
      "Montana                    27.0\n",
      "Nevada                    812.0\n",
      "New Mexico                305.0\n",
      "Utah                      484.0\n",
      "Wyoming                    12.5\n",
      "California              11621.5\n",
      "Oregon                    161.5\n",
      "Washington                238.5\n",
      "Alaska                      6.5\n",
      "Hawaii                    757.0\n",
      "dtype: float64\n"
     ]
    }
   ],
   "source": [
    "#here we see residential small scale generation of PV energy (in thousand MWH) averaged over two years by state\n",
    "\n",
    "av_RS_SS = (EV['RS:SS2021'] + EV['RS:SS2020'])/2\n",
    "print(av_RS_SS)"
   ]
  },
  {
   "cell_type": "code",
   "execution_count": 113,
   "id": "a8f7f5da",
   "metadata": {},
   "outputs": [
    {
     "data": {
      "image/png": "[encoded data removed]",
      "text/plain": [
       "<Figure size 432x288 with 1 Axes>"
      ]
     },
     "metadata": {
      "needs_background": "light"
     },
     "output_type": "display_data"
    }
   ],
   "source": [
    "grouped = EV[\"RS:SS2020\"]\n",
    "grouped = pd.DataFrame(grouped)\n",
    "grouped['raised'] = (EV[\"RS:SS2020\"]**.1)\n",
    "grouped['raised'].hist(bins = 20)\n",
    "plt.xlabel('(Residential generation of PV energy)$^{.1}$')\n",
    "plt.ylabel('Frequency')\n",
    "plt.show()"
   ]
  },
  {
   "cell_type": "code",
   "execution_count": null,
   "id": "68e2704e",
   "metadata": {},
   "outputs": [],
   "source": []
  },
  {
   "cell_type": "code",
   "execution_count": null,
   "id": "0b064642",
   "metadata": {},
   "outputs": [],
   "source": []
  }
 ],
 "metadata": {
  "kernelspec": {
   "display_name": "Python 3",
   "language": "python",
   "name": "python3"
  },
  "language_info": {
   "codemirror_mode": {
    "name": "ipython",
    "version": 3
   },
   "file_extension": ".py",
   "mimetype": "text/x-python",
   "name": "python",
   "nbconvert_exporter": "python",
   "pygments_lexer": "ipython3",
   "version": "3.8.8"
  }
 },
 "nbformat": 4,
 "nbformat_minor": 5
}
